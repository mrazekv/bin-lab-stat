{
    "cells": [
        {
            "attachments": {},
            "cell_type": "markdown",
            "metadata": {},
            "source": [
                "# Na\u010dten\u00ed soubor\u016f\n",
                "V tomto skriptu se na\u010dtou log soubory ulo\u017een\u00e9 v ZIP souboru. Tento soubor si st\u00e1hn\u011bte a nahrajte do stejn\u00e9ho adres\u00e1\u0159e, jakou jsou tyto jupyter notebooky. Jedn\u00e1 se o evolu\u010dn\u00ed n\u00e1vrh 4bitov\u00fdch s\u010d\u00edta\u010dek pro r\u016fzn\u00e9 parametry lambda, po\u010det sloupc\u016f a \u010detnost mutace."
            ]
        },
        {
            "cell_type": "code",
            "execution_count": null,
            "metadata": {},
            "outputs": [],
            "source": [
                "! [-e adders.zip] | | wget https: // ehw.fit.vutbr.cz/bin/adders.zip\n",
                "! [-e example.log] | | wget https: // ehw.fit.vutbr.cz/bin/example.log\n"
            ]
        },
        {
            "cell_type": "code",
            "execution_count": null,
            "metadata": {},
            "outputs": [],
            "source": [
                "# Na\u010dten\u00ed pot\u0159ebn\u00fdch knihoven\n",
                "import zipfile\n",
                "import pandas as pd\n",
                "import re\n"
            ]
        },
        {
            "attachments": {},
            "cell_type": "markdown",
            "metadata": {},
            "source": [
                "V prvn\u00ed funkci se pomoc\u00ed regul\u00e1rn\u00edho v\u00fdrazu naparsuj\u00ed vstupn\u00ed parametry evoluce. Vytvo\u0159\u00ed se objekt typu `dictionary`. "
            ]
        },
        {
            "cell_type": "code",
            "execution_count": null,
            "metadata": {},
            "outputs": [],
            "source": [
                "def parse_filename(filename):\n",
                "    # adders/FA-adder_full_u4bit-L1-C0050-M01-R0000.log\n",
                "    g = re.match(r\".*u(\\d)bit-L(\\d+)-C(\\d+)-M(\\d+)-R(\\d+)\\.log\", filename)\n",
                "    bw, lback, columns, mutations, run = g.groups()\n",
                "    return {\n",
                "        \"bw\": int(bw),\n",
                "        \"lambda_p\": int(lback),\n",
                "        \"cols\": int(columns),\n",
                "        \"muts\": int(mutations),\n",
                "        \"run\": int(run)\n",
                "    }\n",
                "\n",
                "\n",
                "parse_filename(\"adders/FA-adder_full_u4bit-L1-C0050-M01-R0000.log\")\n"
            ]
        },
        {
            "attachments": {},
            "cell_type": "markdown",
            "metadata": {},
            "source": [
                "Dal\u0161\u00ed funkce projde v\u0161echny \u0159\u00e1dky souboru a posledn\u00ed \u0159\u00e1dek ur\u010duj\u00edc\u00ed v\u00fdslednou kvalitu se ur\u010d\u00ed po\u010det generac\u00ed, doba trv\u00e1n\u00ed (v sekund\u00e1ch), zda se poda\u0159ilo naj\u00edt funk\u010dn\u00ed \u0159e\u0161en\u00ed a celkov\u00fd po\u010det uzl\u016f."
            ]
        },
        {
            "cell_type": "code",
            "execution_count": null,
            "metadata": {},
            "outputs": [],
            "source": [
                "def parse_log(file):\n",
                "    last_line = None\n",
                "    # pruchod pres vsechny radky a hledani vystupu fitness\n",
                "    # generation:         1 time: 0.000 idx:0 fitness: 1296/2560 active nodes: 26\n",
                "    for l in file.readlines():\n",
                "        if l.startswith(\"generation:\"):\n",
                "            last_line = l\n",
                "\n",
                "    assert last_line\n",
                "\n",
                "    g = re.match(\n",
                "        r\"generation:\\s*(\\d+) time:\\s*(\\d+\\.\\d+) idx:\\d+ fitness: (\\d+)/(\\d+) active nodes: (\\d+)\", last_line)\n",
                "\n",
                "    gen, time, fit, fitmax, active = g.groups()\n",
                "    gen, fit, fitmax, active = int(gen), int(fit), int(fitmax), int(active)\n",
                "\n",
                "    return {\n",
                "        \"gen\": int(gen),\n",
                "        \"duration\": float(time),\n",
                "        \"success\": int(fit) >= int(fitmax),\n",
                "        \"nodes\": int(active)\n",
                "    }\n",
                "\n",
                "\n",
                "print(parse_log(open(\"example.log\", \"r\")))\n"
            ]
        },
        {
            "attachments": {},
            "cell_type": "markdown",
            "metadata": {},
            "source": [
                "Nyn\u00ed se projodou v\u0161echny soubory a vytvo\u0159\u00ed se jeden slovn\u00edk. Konstrukce `{**a, **b}` slou\u017e\u00ed ke spojen\u00ed dvou slovn\u00edk\u016f."
            ]
        },
        {
            "cell_type": "code",
            "execution_count": null,
            "metadata": {},
            "outputs": [],
            "source": [
                "from io import TextIOWrapper\n",
                "alld = []\n",
                "with zipfile.ZipFile(\"adders.zip\") as zf:\n",
                "    for filename in zf.namelist():\n",
                "        if not filename.endswith(\".log\"):\n",
                "            continue\n",
                "        d = {\"filename\": filename}\n",
                "        d = {**d, **parse_filename(filename)}\n",
                "        # IO wrapper -> prevod z bytu na str\n",
                "        d = {**d, **parse_log(TextIOWrapper(zf.open(filename, \"r\")))}\n",
                "\n",
                "        alld.append(d)\n",
                "alld\n"
            ]
        },
        {
            "attachments": {},
            "cell_type": "markdown",
            "metadata": {},
            "source": [
                "Nyn\u00ed se vytvo\u0159\u00ed z pole slovn\u00edk\u016f jeden dataframe (tabulka), se kterou budeme d\u00e1le pracovat. "
            ]
        },
        {
            "cell_type": "code",
            "execution_count": null,
            "metadata": {},
            "outputs": [],
            "source": [
                "df = pd.DataFrame(alld)\n",
                "df\n"
            ]
        },
        {
            "attachments": {},
            "cell_type": "markdown",
            "metadata": {},
            "source": [
                "S tabulkou m\u016f\u017eeme d\u00e1le pracovat - nap\u0159. si ur\u010dit \u00fasp\u011b\u0161nost n\u00e1vrhu."
            ]
        },
        {
            "cell_type": "code",
            "execution_count": null,
            "metadata": {},
            "outputs": [],
            "source": [
                "df[\"success\"].mean()\n"
            ]
        },
        {
            "attachments": {},
            "cell_type": "markdown",
            "metadata": {},
            "source": [
                "A data si ulo\u017e\u00edme do Pickle souboru pro dal\u0161\u00ed zpracov\u00e1n\u00ed."
            ]
        },
        {
            "cell_type": "code",
            "execution_count": null,
            "metadata": {},
            "outputs": [],
            "source": [
                "df.to_pickle(\"data.pkl.gz\")\n"
            ]
        },
        {
            "attachments": {},
            "cell_type": "markdown",
            "metadata": {},
            "source": [
                "# Zpracov\u00e1n\u00ed dat\n",
                "Tento notebook p\u0159edstavuje hlavn\u00ed \u010d\u00e1st, se kterou budete ve sv\u00e9m \u0159e\u0161en\u00ed projektu pracovat. Na\u010dtou se data, kter\u00e1 jste vygenerovali v \u010d\u00e1sti 1 a budete je d\u00e1le analyzovat. Norm\u00e1ln\u011b by toto byl samostatn\u00fd soubor, nicm\u00e9n\u011b pro pr\u00e1ci s Google Colab je lep\u0161\u00ed pracovat s jedn\u00edm notebookem"
            ]
        },
        {
            "cell_type": "code",
            "execution_count": null,
            "metadata": {},
            "outputs": [],
            "source": [
                "import pandas as pd\n",
                "import matplotlib.pyplot as plt\n",
                "import scipy.stats as st\n",
                "import numpy as np\n"
            ]
        },
        {
            "attachments": {},
            "cell_type": "markdown",
            "metadata": {},
            "source": [
                "Pomoc\u00ed funkce `pd.read_pickle` na\u010dt\u011bte soubor _data.pkl.gz_. Tento soubor ulo\u017ete do prom\u011bnn\u00e9 `df` a zobrazte ji jako tabulku (tj. posledn\u00ed \u0159\u00e1dek bu\u0148ky bude `df`)."
            ]
        },
        {
            "cell_type": "code",
            "execution_count": null,
            "metadata": {},
            "outputs": [],
            "source": [
                "# TODO\n"
            ]
        },
        {
            "attachments": {},
            "cell_type": "markdown",
            "metadata": {},
            "source": [
                "Pomoc\u00ed funkce `unique()` v\u00e1zan\u00e9 k s\u00e9rii (sloupci) vypi\u0161te unik\u00e1tn\u00ed hodnoty slouc\u016f _cols, muts, lambda_p."
            ]
        },
        {
            "cell_type": "code",
            "execution_count": null,
            "metadata": {},
            "outputs": [],
            "source": [
                "# TODO\n"
            ]
        },
        {
            "attachments": {},
            "cell_type": "markdown",
            "metadata": {},
            "source": [
                "## Jednoduch\u00e1 anal\u00fdza v\u00fdsledk\u016f\n",
                "Pomoc\u00ed filtrace `df.query` vytvo\u0159te nov\u00fd dataframe `df2`, kter\u00fd bude obsahovat pouze v\u00fdsledky s 5 mutacemi a parametrem _lambda_p_ roven 1 a s \u00fasp\u011b\u0161n\u00fdmi hled\u00e1n\u00edmi (_success_ je pozitivn\u00ed). Tento dataframe rovnou zobrazte."
            ]
        },
        {
            "cell_type": "code",
            "execution_count": null,
            "metadata": {},
            "outputs": [],
            "source": [
                "# TODO\n"
            ]
        },
        {
            "attachments": {},
            "cell_type": "markdown",
            "metadata": {},
            "source": [
                "## Tvorba boxplotu\n",
                "Vytvo\u0159te jednoduch\u00fd boxplot pro dobu trv\u00e1n\u00ed (sloupec _duration_) pro jednotliv\u00e9 nastaven\u00ed po\u010dtu sloupc\u016f (_cols_). Pro data pro ka\u017ed\u00fd ze t\u0159\u00ed boxplot\u016f m\u016f\u017eete pou\u017et\u00ed filtraci z `df2` p\u0159\u00edkazem `query`, ze kter\u00e9ho pak vyberete pouze duration - t.j. `df2.query(\"...\")[\"duration]`. Nezapome\u0148te nastavit popisky os a ticky na ose X."
            ]
        },
        {
            "cell_type": "code",
            "execution_count": null,
            "metadata": {},
            "outputs": [],
            "source": [
                "# TODO\n"
            ]
        },
        {
            "attachments": {},
            "cell_type": "markdown",
            "metadata": {},
            "source": [
                "Do tohoto pole napi\u0161te z\u00e1v\u011br z boxplotu. Co m\u016f\u017eeme vid\u011bt? (cca 2 v\u011bty)"
            ]
        },
        {
            "attachments": {},
            "cell_type": "markdown",
            "metadata": {},
            "source": [
                "## Tvorba histogramu\n",
                "Nyn\u00ed si zanalyzujeme v\u00fdsledky trv\u00e1n\u00ed pro __50 sloupc\u016f__ detailn\u011b. Vykreslete proto histogram pro toto nastaven\u00ed. Pou\u017eijte filtraci jako v\u00fd\u0161e. \n",
                "\n",
                "Graf nezapome\u0148te spr\u00e1vn\u011b nakonfigurovat (titulek, popisy os, limit a podobn\u011b)"
            ]
        },
        {
            "cell_type": "code",
            "execution_count": null,
            "metadata": {},
            "outputs": [],
            "source": [
                "# TODO\n"
            ]
        },
        {
            "attachments": {},
            "cell_type": "markdown",
            "metadata": {},
            "source": [
                "## Statistick\u00e1 anal\u00fdza\n",
                "Jak\u00e1 je pr\u016fm\u011brn\u00e1 doba trv\u00e1n\u00ed pro 100 a 500 sloupc\u016f? Vytvo\u0159te si dv\u011b s\u00e9rie v\u00fdb\u011brem jako v\u00fd\u0161e a vypi\u0161te jejich: pr\u016fm\u011br, medi\u00e1n, minimum, maximum a 1. a 3. kvartil."
            ]
        },
        {
            "cell_type": "code",
            "execution_count": null,
            "metadata": {},
            "outputs": [],
            "source": [
                "# TODO\n"
            ]
        },
        {
            "attachments": {},
            "cell_type": "markdown",
            "metadata": {},
            "source": [
                "Podle medi\u00e1n\u016f se uk\u00e1zalo, \u017ee jedno \u0159e\u0161en\u00ed je lep\u0161\u00ed. Je to opravdu statisticky v\u00fdznamn\u00e9? Prove\u010fte [Mann-Whitney U-test](https://docs.scipy.org/doc/scipy/reference/generated/scipy.stats.mannwhitneyu.html) (`mannwhitneyu`), proto\u017ee data nejsou norm\u00e1ln\u00ed. Ur\u010dete, zda je tento rozd\u00edl signifikantn\u00ed (s v\u011brnost\u00ed 0.95).\n",
                "\n",
                "> The Mann-Whitney U test is a nonparametric test of the null hypothesis that the distribution underlying sample x is the same as the distribution underlying sample y. It is often used as a test of difference in location between distributions."
            ]
        },
        {
            "cell_type": "code",
            "execution_count": null,
            "metadata": {},
            "outputs": [],
            "source": [
                "# TODO\n"
            ]
        },
        {
            "attachments": {},
            "cell_type": "markdown",
            "metadata": {},
            "source": [
                "Napi\u0161te z\u00e1v\u011br anal\u00fdzy"
            ]
        },
        {
            "attachments": {},
            "cell_type": "markdown",
            "metadata": {},
            "source": [
                "## Pro rychl\u00e9 a zv\u00eddav\u00e9\n",
                "Tento notebook p\u0159edstavuje rychlokurz datov\u00e9 anal\u00fdzy a nep\u0159edstavuje v\u017edy nejlep\u0161\u00ed \u0159e\u0161en\u00ed. Zkuste si pak implementovat boxploty pomoc\u00ed Seabornu (`sns.boxplot`), kdy vypln\u00edte parametry `data` (dataframe), `x` (n\u00e1zev sloupce na x-ov\u00e9 ose) a `y` (n\u00e1zev sloupce na ose y). Nav\u00edc m\u016f\u017eete pou\u017e\u00edt i v\u011bt\u0161\u00ed dataset a nastavit parametr `hue` pro podbarven\u00ed (nap\u0159. po\u010det mutac\u00ed). N\u00e1vratov\u00e1 hodnota je matplotib _axis_ (`ax`), kter\u00fd m\u016f\u017eete pou\u017e\u00edt k dal\u0161\u00ed konfiguraci"
            ]
        },
        {
            "cell_type": "code",
            "execution_count": null,
            "metadata": {},
            "outputs": [],
            "source": [
                "import seaborn as sns\n",
                "# ax = sns.boxplot(data=df.query(\"success and lback==1\"), ...) # todo (jen ve voln\u00e9m \u010dase)\n"
            ]
        },
        {
            "attachments": {},
            "cell_type": "markdown",
            "metadata": {},
            "source": [
                "# Konvergen\u010dn\u00ed k\u0159ivky\n",
                "Pro vybranou konfiguraci (s 90 b\u011bhy) n\u00e1s bude zaj\u00edmat, jak vlastn\u011b vypad\u00e1 v\u00fdvoj fitness v \u010dase. Zase by se jednalo o samostatn\u00fd soubor, ale kv\u016fli Google Colab st\u00e1le pracujeme v jednom notebooku."
            ]
        },
        {
            "cell_type": "code",
            "execution_count": null,
            "metadata": {},
            "outputs": [],
            "source": [
                "import pandas as pd\n",
                "import seaborn as sns\n",
                "import matplotlib.pyplot as plt\n",
                "import numpy as np\n",
                "import zipfile\n",
                "import re\n"
            ]
        },
        {
            "attachments": {},
            "cell_type": "markdown",
            "metadata": {},
            "source": [
                "## Z\u00edsk\u00e1v\u00e1n\u00ed dat\n",
                "Nyn\u00ed chceme p\u0159ev\u00e9st ka\u017ed\u00fd log do 2D numpy pole, kdy prvn\u00ed prvn\u00ed sloupec obsahuje generaci a druh\u00fd sloupec odpov\u00eddaj\u00edc\u00ed fitness. Va\u0161\u00edm \u00fakolem bude doplnit regul\u00e1rn\u00ed v\u00fdraz pro na\u010d\u00edt\u00e1n\u00ed generace a fitness a po dvojic\u00edch jej vlo\u017eit do pole `alld`. Pro testovac\u00ed log soubor by m\u011bl vzniknout n\u00e1sleduj\u00edc\u00ed v\u00fdstup:\n",
                "\n",
                "```[[      1    1296]\n",
                " [     12    1352]\n",
                " [     26    1392]\n",
                "...\n",
                " [1589571    2536]\n",
                " [1647531    2560]]```\n",
                " "
            ]
        },
        {
            "cell_type": "code",
            "execution_count": null,
            "metadata": {},
            "outputs": [],
            "source": [
                "    # pruchod pres vsechny radky a hledani vystupu fitness ###\n",
                "    # generation:         1 time: 0.000 idx:0 fitness: 1296/2560 active nodes: 26 ###\n"
            ]
        },
        {
            "attachments": {},
            "cell_type": "markdown",
            "metadata": {},
            "source": [
                "Nyn\u00ed vytvo\u0159\u00edme list numpy 2D pol\u00ed (pro ka\u017ed\u00fd log soubor) odpov\u00eddaj\u00edc\u00ed nastaven\u00ed _bw=4, lback=1, cols=50 a muts=5_ (vybr\u00e1no n\u00e1hodn\u011b). Nemohli jsme ud\u011blat jedno 3D pole, jeliko\u017e ka\u017ed\u00e9 hled\u00e1n\u00ed vy\u017eaduje jin\u00fd po\u010det krok\u016f - t\u0159et\u00ed dimenze pak nen\u00ed konstantn\u00ed."
            ]
        },
        {
            "cell_type": "code",
            "execution_count": null,
            "metadata": {},
            "outputs": [],
            "source": [
                "from io import TextIOWrapper\n",
                "allgens = []\n",
                "\n",
                "alld = []\n",
                "with zipfile.ZipFile(\"adders.zip\") as zf:\n",
                "    for filename in zf.namelist():\n",
                "        if not filename.endswith(\".log\") or \"FA-adder_full_u4bit-L1-C0050-M05-R\" not in filename:\n",
                "            continue\n",
                "        # IO wrapper -> prevod z bytu na str\n",
                "        gens = parse_gens(TextIOWrapper(zf.open(filename, \"r\")))\n",
                "\n",
                "        allgens.append(gens)\n",
                "allgens\n"
            ]
        },
        {
            "attachments": {},
            "cell_type": "markdown",
            "metadata": {},
            "source": [
                "## V\u0161echny k\u0159ivky p\u0159es sebe\n",
                "Vykreslete graf v\u0161ech b\u011bh\u016f. Pro ka\u017ed\u00fd b\u011bh `for g in allgens` vykreslete jednu \u010d\u00e1ru - ide\u00e1ln\u011b pou\u017eijte funkci `ax.step(x = ..., y = ...  ,where=\"post\", alpha = 0.2)`. Alfa kan\u00e1l umo\u017en\u00ed zobrazen\u00ed v\u00edce \u010dar p\u0159es sebe. \n",
                "\n",
                "Grafu nastavte logaritmick\u00e9 m\u011b\u0159\u00edtko na ose X."
            ]
        },
        {
            "cell_type": "code",
            "execution_count": null,
            "metadata": {},
            "outputs": [],
            "source": [
                "# nastavte parametry (log. meritko, ylim od 0 do None, popisky os, ...)\n"
            ]
        },
        {
            "attachments": {},
            "cell_type": "markdown",
            "metadata": {},
            "source": [
                "Tato konvergen\u010dn\u00ed k\u0159ivka sice trochu pom\u016f\u017ee, ale nen\u00ed to spr\u00e1vn\u00e1 vizualizace tohoto d\u011bje. \n",
                "\n",
                "## Vykreslen\u00ed konvergen\u010dn\u00ed k\u0159ivky\n",
                "Mohli bychom si spo\u010d\u00edtat minimum, maximum a pr\u016fm\u011br a vykreslit pomoc\u00ed `plt.fill_between`, ale pro n\u00e1s je v\u00fdhodn\u011bj\u0161\u00ed vyu\u017e\u00edt knihovnu _seaborn_. Tato knihovna umo\u017e\u0148uje jednodu\u0161e generovat grafy z Pandas dataframu. V\u00fdhodou je to, \u017ee je pak m\u016f\u017eeme upravit s vyu\u017eit\u00edm na\u0161ich znalost\u00ed z matplotlib. Pro v\u00edce uk\u00e1zek doporu\u010duji zkontrolovat [galerii](https://seaborn.pydata.org/examples/index.html).\n",
                "\n",
                "V prvn\u00ed \u010d\u00e1sti p\u0159evedeme v\u0161echna data na jeden dataframe, kde p\u0159id\u00e1me sloupec \"runid\"."
            ]
        },
        {
            "cell_type": "code",
            "execution_count": null,
            "metadata": {},
            "outputs": [],
            "source": [
                "alldf = []\n",
                "\n",
                "for rid, g in enumerate(allgens):\n",
                "    d = pd.DataFrame(g, columns=[\"gen\", \"fit\"])\n",
                "    d[\"runid\"] = rid\n",
                "    alldf.append(d)\n",
                "df = pd.concat(alldf, ignore_index=True)\n",
                "df\n"
            ]
        },
        {
            "attachments": {},
            "cell_type": "markdown",
            "metadata": {},
            "source": [
                "Vykreslete nyn\u00ed \u010d\u00e1rov\u00fd graf pomoc\u00ed funkce `sns.lineplot`. Argumenty budou `data=df, x=\"gen\", y=\"fit\"`.\n",
                "\n",
                "N\u00e1vratov\u00e1 hodnota t\u00e9to funkce je objekt _Axis_ `ax`. Nastavte mu stejn\u00e9 parametry, jako v\u00fd\u0161e (logaritmick\u00e9 m\u011b\u0159\u00edtko a podobn\u011b)."
            ]
        },
        {
            "cell_type": "code",
            "execution_count": null,
            "metadata": {},
            "outputs": [],
            "source": []
        },
        {
            "attachments": {},
            "cell_type": "markdown",
            "metadata": {},
            "source": [
                "Tento graf ale nen\u00ed spr\u00e1vn\u011b. Spr\u00e1vn\u011b se m\u011bl spo\u010d\u00edtat tzv. confidence interval a m\u011blo b\u00fdt vid\u011bt, jak se fitness m\u011bn\u00ed v \u010dase. Probl\u00e9mem je to, \u017ee nem\u00e1me pro ka\u017edou generaci definovan\u00fd v\u00fdsledek pro v\u0161echny b\u011bhy. Nezb\u00fdv\u00e1 ur\u010dit vzorkovac\u00ed body, pro kter\u00e9 si spo\u010d\u00edt\u00e1me (interpolujeme) hodnotu fitness.\n",
                "\n",
                "Vytvo\u0159te tedy numpy pole `gens_selected` obsahuj\u00edc\u00ed logaritmicky vzorkovan\u00e9 body. Pro generov\u00e1n\u00ed tohoto rozsahu m\u016f\u017eete vyu\u017e\u00edt funkci `np.geomspace(start, stop, steps)` s t\u00edm, \u017ee zvol\u00edte na z\u00e1klad\u011b p\u0159edchoz\u00edho grafu po\u010d\u00e1tek, konec a vhodn\u00fd po\u010det bod\u016f."
            ]
        },
        {
            "cell_type": "code",
            "execution_count": null,
            "metadata": {},
            "outputs": [],
            "source": []
        },
        {
            "attachments": {},
            "cell_type": "markdown",
            "metadata": {},
            "source": [
                "Nyn\u00ed budeme interpolovat a extrapolovat. Vyu\u017eijeme k tomu funkci `scipy.interpolate.interp1d`. Tato funkce vytv\u00e1\u0159\u00ed objekt na z\u00e1klad\u011b dvojic _x_ a _y_. Potom tento objekt m\u016f\u017eeme zavolat (jako funkci) s libovoln\u00fdm vstupem (i vektorem) a vr\u00e1t\u00ed n\u00e1m body, kter\u00e9 by fitness m\u011bla pro danou generaci. Norm\u00e1ln\u011b se d\u011bl\u00e1 line\u00e1rn\u00ed prolo\u017een\u00ed, nicm\u00e9n\u011b zde budeme prokl\u00e1dat p\u0159edchoz\u00ed hodnotou (fitness se m\u011bn\u00ed skokov\u011b)."
            ]
        },
        {
            "cell_type": "code",
            "execution_count": null,
            "metadata": {},
            "outputs": [],
            "source": [
                "from scipy.interpolate import interp1d\n",
                "alldf = []\n",
                "\n",
                "for rid, g in enumerate(allgens):\n",
                "    # vytvorime interpolacni funkci. Pridame i bod 0, protoze ten v seznamu neni\n",
                "    g = np.concatenate([[[0, 0]], g])\n",
                "    fn = interp1d(x=g[:, 0], y=g[:, 1], kind=\"previous\",\n",
                "                  fill_value=\"extrapolate\")\n",
                "\n",
                "    d = pd.DataFrame()\n",
                "    # generace nastavime nasim vzorkovacim\n",
                "    d[\"gen\"] = gens_selected\n",
                "    # a fitness odpovida prolozene hodnote\n",
                "    d[\"fit\"] = fn(gens_selected)\n",
                "    d[\"runid\"] = rid\n",
                "    alldf.append(d)\n",
                "df_interp = pd.concat(alldf, ignore_index=True)\n",
                "df_interp\n"
            ]
        },
        {
            "attachments": {},
            "cell_type": "markdown",
            "metadata": {},
            "source": [
                "Nyn\u00ed vykreslete graf stejn\u011b jako v\u00fd\u0161e pomoc\u00ed finkce `sns.lineplot`. Pou\u017eijte funkci \u00fapln\u011b stejn\u011b jako v\u00fd\u0161e, jen m\u00edsto `df` pou\u017eijte na\u0161e nov\u00e1 vzrokovan\u00e1 data `df_interp`. \n",
                "\n",
                "Vykreslil se u\u017e graf spr\u00e1vn\u011b? V\u0161imn\u011bte si, kde doch\u00e1zelo k variac\u00edm a kde u\u017e je velk\u00e1 jistota, \u017ee fitness bude vysok\u00e1. Je zadan\u00fd algoritmus stabiln\u00ed z pohledu konvergence?"
            ]
        },
        {
            "cell_type": "code",
            "execution_count": null,
            "metadata": {},
            "outputs": [],
            "source": []
        },
        {
            "attachments": {},
            "cell_type": "markdown",
            "metadata": {},
            "source": [
                "Barevn\u00fd pruh n\u00e1m ur\u010duje confidence interval (0.95) po\u010d\u00edtan\u00fd z distribuce. St\u0159ed je pr\u016fm\u011brn\u00e1 hodnota. My si v\u0161ak m\u016f\u017eeme zobrazit nap\u0159 medi\u00e1n a minimum a maximum. V\u00edce v [dokumentaci](https://seaborn.pydata.org/tutorial/error_bars.html)\n",
                "\n",
                "Zkuste p\u0159idat parametr `estimator=np.median`. V nov\u011bj\u0161\u00edch verz\u00edch knihovny Seaborn (nen\u00ed p\u0159\u00edpad Google Colab \ud83e\udd79) se zad\u00e1va `estimator=\"median\", errorbar=(\"pi\", 100)` (100. percentil - min / max, m\u016f\u017eete pou\u017e\u00edt t\u0159eba 75.)."
            ]
        },
        {
            "cell_type": "code",
            "execution_count": null,
            "metadata": {},
            "outputs": [],
            "source": []
        }
    ],
    "metadata": {
        "kernelspec": {
            "display_name": "Python 3 (ipykernel)",
            "language": "python",
            "name": "python3"
        },
        "language_info": {
            "codemirror_mode": {
                "name": "ipython",
                "version": 3
            },
            "file_extension": ".py",
            "mimetype": "text/x-python",
            "name": "python",
            "nbconvert_exporter": "python",
            "pygments_lexer": "ipython3",
            "version": "3.10.6"
        },
        "vscode": {
            "interpreter": {
                "hash": "767d51c1340bd893661ea55ea3124f6de3c7a262a8b4abca0554b478b1e2ff90"
            }
        }
    },
    "nbformat": 4,
    "nbformat_minor": 2
}